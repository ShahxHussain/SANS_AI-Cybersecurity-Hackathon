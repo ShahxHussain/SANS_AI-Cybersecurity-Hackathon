{
  "nbformat": 4,
  "nbformat_minor": 0,
  "metadata": {
    "colab": {
      "provenance": []
    },
    "kernelspec": {
      "name": "python3",
      "display_name": "Python 3"
    },
    "language_info": {
      "name": "python"
    }
  },
  "cells": [
    {
      "cell_type": "code",
      "source": [
        "from google.colab import drive"
      ],
      "metadata": {
        "id": "QFy7EmSGJ9mr"
      },
      "execution_count": 2,
      "outputs": []
    },
    {
      "cell_type": "code",
      "source": [
        "drive.mount('/content/drive')"
      ],
      "metadata": {
        "colab": {
          "base_uri": "https://localhost:8080/"
        },
        "id": "0L0vwxn2J-WI",
        "outputId": "cd674d92-f320-41ab-da66-9490d5542dc9"
      },
      "execution_count": 3,
      "outputs": [
        {
          "output_type": "stream",
          "name": "stdout",
          "text": [
            "Mounted at /content/drive\n"
          ]
        }
      ]
    },
    {
      "cell_type": "code",
      "source": [
        "import pandas as pd\n",
        "from sklearn.model_selection import train_test_split\n",
        "from xgboost import XGBClassifier\n",
        "from sklearn.metrics import classification_report, accuracy_score\n",
        "import joblib\n",
        "\n",
        "# Load your GAN-balanced dataset\n",
        "df = pd.read_csv('/content/drive/MyDrive/Datasets/UNSW-NB15/MyTechniques/balanced_testing_set.csv')  # From your previous step\n",
        "\n",
        "# Preprocess (align with your earlier preprocessing script)\n",
        "X = df.drop(columns=['label', 'attack_cat'])  # Features\n",
        "y = df['label']  # Binary target\n",
        "\n",
        "# Train-test split\n",
        "X_train, X_test, y_train, y_test = train_test_split(X, y, test_size=0.2, stratify=y, random_state=42)\n",
        "\n",
        "# Train\n",
        "model = XGBClassifier(scale_pos_weight=len(y[y==0])/len(y[y==1]))  # Handle residual imbalance\n",
        "model.fit(X_train, y_train)\n",
        "\n",
        "# Test\n",
        "y_pred = model.predict(X_test)\n",
        "print(classification_report(y_test, y_pred))\n",
        "\n",
        "# Save model for Node.js integration\n",
        "joblib.dump(model, '/content/binary_xgboost_model.pkl')"
      ],
      "metadata": {
        "colab": {
          "base_uri": "https://localhost:8080/"
        },
        "id": "2xpy88PEKP1O",
        "outputId": "21caf53a-5bce-44c8-ad00-1488228f184d"
      },
      "execution_count": 4,
      "outputs": [
        {
          "output_type": "stream",
          "name": "stdout",
          "text": [
            "              precision    recall  f1-score   support\n",
            "\n",
            "           0       0.81      0.99      0.89     11200\n",
            "           1       1.00      0.97      0.99    100800\n",
            "\n",
            "    accuracy                           0.98    112000\n",
            "   macro avg       0.91      0.98      0.94    112000\n",
            "weighted avg       0.98      0.98      0.98    112000\n",
            "\n"
          ]
        },
        {
          "output_type": "execute_result",
          "data": {
            "text/plain": [
              "['/content/binary_xgboost_model.pkl']"
            ]
          },
          "metadata": {},
          "execution_count": 4
        }
      ]
    }
  ]
}